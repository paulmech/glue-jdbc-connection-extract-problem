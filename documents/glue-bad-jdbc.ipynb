{
 "cells": [
  {
   "cell_type": "code",
   "execution_count": 23,
   "id": "foster-table",
   "metadata": {},
   "outputs": [
    {
     "data": {
      "application/vnd.jupyter.widget-view+json": {
       "model_id": "",
       "version_major": 2,
       "version_minor": 0
      },
      "text/plain": [
       "FloatProgress(value=0.0, bar_style='info', description='Progress:', layout=Layout(height='25px', width='50%'),…"
      ]
     },
     "metadata": {},
     "output_type": "display_data"
    }
   ],
   "source": [
    "import boto3\n",
    "\n",
    "my_connection_name = \"bad-jdbc\"\n",
    "glueapi = boto3.client(\"glue\", region_name=\"ap-southeast-2\")\n",
    "\n",
    "connections = glueapi.get_connection(Name = my_connection_name )"
   ]
  },
  {
   "cell_type": "code",
   "execution_count": 24,
   "id": "spiritual-theorem",
   "metadata": {},
   "outputs": [
    {
     "data": {
      "application/vnd.jupyter.widget-view+json": {
       "model_id": "",
       "version_major": 2,
       "version_minor": 0
      },
      "text/plain": [
       "FloatProgress(value=0.0, bar_style='info', description='Progress:', layout=Layout(height='25px', width='50%'),…"
      ]
     },
     "metadata": {},
     "output_type": "display_data"
    },
    {
     "name": "stdout",
     "output_type": "stream",
     "text": [
      "jdbc:oracle:thin://@hostname.rds.amazonaws.com:1521/ORCL"
     ]
    }
   ],
   "source": [
    "\n",
    "configured_url = (connections[\"Connection\"][\"ConnectionProperties\"][\"JDBC_CONNECTION_URL\"])\n",
    "print(configured_url)"
   ]
  },
  {
   "cell_type": "code",
   "execution_count": 25,
   "id": "artistic-coordinate",
   "metadata": {},
   "outputs": [
    {
     "data": {
      "application/vnd.jupyter.widget-view+json": {
       "model_id": "",
       "version_major": 2,
       "version_minor": 0
      },
      "text/plain": [
       "FloatProgress(value=0.0, bar_style='info', description='Progress:', layout=Layout(height='25px', width='50%'),…"
      ]
     },
     "metadata": {},
     "output_type": "display_data"
    }
   ],
   "source": [
    "from pyspark.context import SparkContext\n",
    "from awsglue.context import GlueContext\n",
    "glueContext = GlueContext(sc)"
   ]
  },
  {
   "cell_type": "code",
   "execution_count": 29,
   "id": "small-momentum",
   "metadata": {},
   "outputs": [
    {
     "data": {
      "application/vnd.jupyter.widget-view+json": {
       "model_id": "",
       "version_major": 2,
       "version_minor": 0
      },
      "text/plain": [
       "FloatProgress(value=0.0, bar_style='info', description='Progress:', layout=Layout(height='25px', width='50%'),…"
      ]
     },
     "metadata": {},
     "output_type": "display_data"
    },
    {
     "name": "stdout",
     "output_type": "stream",
     "text": [
      "glueContext extracted =  jdbc:oracle://hostname.rds.amazonaws.com:1521\n",
      "configured            =  jdbc:oracle:thin://@hostname.rds.amazonaws.com:1521/ORCL"
     ]
    }
   ],
   "source": [
    "extracted_connection = glueContext.extract_jdbc_conf( my_connection_name )\n",
    "print ( \"glueContext extracted = \", extracted_connection[\"url\"])\n",
    "print ( \"configured            = \",configured_url)"
   ]
  }
 ],
 "metadata": {
  "kernelspec": {
   "display_name": "Sparkmagic (PySpark)",
   "language": "python",
   "name": "pysparkkernel"
  },
  "language_info": {
   "codemirror_mode": {
    "name": "python",
    "version": 3
   },
   "file_extension": ".py",
   "mimetype": "text/x-python",
   "name": "pyspark",
   "pygments_lexer": "python3"
  }
 },
 "nbformat": 4,
 "nbformat_minor": 5
}
